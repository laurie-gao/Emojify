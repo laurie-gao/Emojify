{
  "nbformat": 4,
  "nbformat_minor": 0,
  "metadata": {
    "colab": {
      "name": "emojify",
      "provenance": [],
      "collapsed_sections": [],
      "toc_visible": true
    },
    "kernelspec": {
      "name": "python3",
      "display_name": "Python 3"
    }
  },
  "cells": [
    {
      "cell_type": "code",
      "metadata": {
        "id": "k-0Ez6S4Gmv6",
        "colab_type": "code",
        "colab": {}
      },
      "source": [
        "!pip install nltk\n",
        "!pip install emoji\n",
        "!pip install twitterscraper\n",
        "\n",
        "import csv\n",
        "import numpy as np\n",
        "import emoji\n",
        "import nltk\n",
        "import pandas as pd\n",
        "import matplotlib.pyplot as plt\n",
        "\n",
        "from google.colab import files\n",
        "from nltk.tokenize import word_tokenize\n",
        "from sklearn.metrics import confusion_matrix\n",
        "from keras.models import Model\n",
        "from keras.layers import Dense, Input, Dropout, LSTM, Activation\n",
        "from keras.layers.embeddings import Embedding\n",
        "from keras.preprocessing import sequence\n",
        "from keras.initializers import glorot_uniform\n",
        "from keras.optimizers import Adam\n",
        "from sklearn.model_selection import train_test_split\n",
        "np.random.seed(1)\n",
        "nltk.download('punkt')\n",
        "\n",
        "%matplotlib inline"
      ],
      "execution_count": 0,
      "outputs": []
    },
    {
      "cell_type": "code",
      "metadata": {
        "id": "4xcjgR7Ntx27",
        "colab_type": "code",
        "colab": {}
      },
      "source": [
        "df_train = pd.read_csv('train_data')"
      ],
      "execution_count": 0,
      "outputs": []
    },
    {
      "cell_type": "code",
      "metadata": {
        "id": "RUQEaHUkp8Y_",
        "colab_type": "code",
        "colab": {}
      },
      "source": [
        "emoji_dictionary = {\"0\": \"\\u2764\\uFE0F\",    \n",
        "                    \"1\": \":smile:\",\n",
        "                    \"2\": \":disappointed:\",\n",
        "                    \"3\": \":pleading_face:\",\n",
        "                    \"4\": \":face_with_steam_from_nose:\",\n",
        "                    }"
      ],
      "execution_count": 0,
      "outputs": []
    },
    {
      "cell_type": "code",
      "metadata": {
        "id": "DQvLjFk9KWjN",
        "colab_type": "code",
        "colab": {}
      },
      "source": [
        "X_sentences = df_train[\"text\"].to_numpy()\n",
        "Y = df_train[\"label\"].to_numpy()"
      ],
      "execution_count": 0,
      "outputs": []
    },
    {
      "cell_type": "code",
      "metadata": {
        "id": "2erAGEKdKtzw",
        "colab_type": "code",
        "outputId": "75b2701e-7747-48e6-9a96-c176324b6acb",
        "colab": {
          "base_uri": "https://localhost:8080/",
          "height": 34
        }
      },
      "source": [
        "words_to_embeddings = {}\n",
        "word_to_index = {}\n",
        "index_to_word = {}\n",
        "words = set()\n",
        "with open('glove.6B.50d.txt') as f:\n",
        "        for line in f:\n",
        "            line = line.strip().split()\n",
        "            curr_word = line[0]\n",
        "            words.add(curr_word)\n",
        "            words_to_embeddings[curr_word] = np.array(line[1:], dtype=np.float64)\n",
        "        \n",
        "        i = 1\n",
        "        for w in sorted(words):\n",
        "            word_to_index[w] = i\n",
        "            index_to_word[i] = w\n",
        "            i = i + 1\n",
        "\n",
        "print('Found %s word vectors.' % len(words_to_embeddings))"
      ],
      "execution_count": 25,
      "outputs": [
        {
          "output_type": "stream",
          "text": [
            "Found 400000 word vectors.\n"
          ],
          "name": "stdout"
        }
      ]
    },
    {
      "cell_type": "code",
      "metadata": {
        "id": "-p3cGW1gbeh7",
        "colab_type": "code",
        "outputId": "0246ff6e-7e51-4199-de3c-5113c90de387",
        "colab": {
          "base_uri": "https://localhost:8080/",
          "height": 34
        }
      },
      "source": [
        "max_len = 0\n",
        "X_tokens = []\n",
        "for sentences in X_sentences:\n",
        "  tokens = word_tokenize(sentences.lower().replace('\\n', ' '))\n",
        "  length = len(tokens)\n",
        "  if length > max_len:\n",
        "    max_len = length\n",
        "  X_tokens.append(tokens)\n",
        "\n",
        "print('length of longest tweet is %s tokens.'  %max_len)"
      ],
      "execution_count": 64,
      "outputs": [
        {
          "output_type": "stream",
          "text": [
            "length of longest tweet is 79 tokens.\n"
          ],
          "name": "stdout"
        }
      ]
    },
    {
      "cell_type": "code",
      "metadata": {
        "id": "LdLRkAUtIZ45",
        "colab_type": "code",
        "colab": {}
      },
      "source": [
        "X_train, X_val, Y_train, Y_val = train_test_split(X_tokens, Y, test_size=0.33, random_state=42)"
      ],
      "execution_count": 0,
      "outputs": []
    },
    {
      "cell_type": "code",
      "metadata": {
        "id": "14MdJiqsZTLz",
        "colab_type": "code",
        "colab": {}
      },
      "source": [
        "def tokens_to_indices(X_tokens, word_to_index, max_len):\n",
        "  m = len(X_tokens) \n",
        "  X_indices = np.zeros((m, max_len))\n",
        "\n",
        "  for i in range(m):\n",
        "    sentence_tokens = X_tokens[i]\n",
        "    j = 0\n",
        "    for token in sentence_tokens:\n",
        "      if token in word_to_index.keys():\n",
        "        X_indices[i,j] = word_to_index[token]\n",
        "      else:\n",
        "        X_indices[i,j] = word_to_index[\"unk\"]\n",
        "      j += 1\n",
        "\n",
        "  return X_indices"
      ],
      "execution_count": 0,
      "outputs": []
    },
    {
      "cell_type": "code",
      "metadata": {
        "id": "_fIq71_Xn-3B",
        "colab_type": "code",
        "colab": {}
      },
      "source": [
        "def label_to_one_hot(Y, num_classes):\n",
        "    Y = np.eye(num_classes)[Y.reshape(-1)]\n",
        "    return Y"
      ],
      "execution_count": 0,
      "outputs": []
    },
    {
      "cell_type": "code",
      "metadata": {
        "id": "RWO_oB8tbIFH",
        "colab_type": "code",
        "colab": {}
      },
      "source": [
        "def embedding_layer(words_to_embeddings, word_to_index):\n",
        "  num_words = len(word_to_index) + 1 #additional row for <unk>\n",
        "  embedding_dim = 50 \n",
        "\n",
        "  embedding_matrix = np.zeros((num_words, embedding_dim))\n",
        "\n",
        "  for word, index in word_to_index.items():\n",
        "    embedding_matrix[index, :] = words_to_embeddings[word]\n",
        "  \n",
        "  embedding_layer = Embedding(num_words, embedding_dim, trainable=False)\n",
        "  embedding_layer.build((None,))\n",
        "  embedding_layer.set_weights([embedding_matrix])\n",
        "\n",
        "  return embedding_layer"
      ],
      "execution_count": 0,
      "outputs": []
    },
    {
      "cell_type": "code",
      "metadata": {
        "id": "E7S8qMWgja6O",
        "colab_type": "code",
        "colab": {}
      },
      "source": [
        "embedding_layer = embedding_layer(words_to_embeddings, word_to_index)"
      ],
      "execution_count": 0,
      "outputs": []
    },
    {
      "cell_type": "code",
      "metadata": {
        "colab_type": "code",
        "id": "FkkxU-rZgZui",
        "colab": {}
      },
      "source": [
        "def build_model():\n",
        "  sentence_indices = Input(shape=(max_len,), dtype='int32')\n",
        "  embeddings = embedding_layer(sentence_indices)   \n",
        "  X = LSTM(128, return_sequences=True)(embeddings)\n",
        "  X = Dropout(rate=0.5)(X)\n",
        "  X = LSTM(128, return_sequences=False)(X)\n",
        "  X = Dropout(rate=0.5)(X)\n",
        "  X = Dense(5)(X)\n",
        "  preds = Activation('softmax')(X)\n",
        "  model = Model(sentence_indices, preds)\n",
        "  opt = Adam(learning_rate=0.002, beta_1=0.9, beta_2=0.999, amsgrad=False)\n",
        "  model.compile(loss='categorical_crossentropy', optimizer=opt, metrics=['accuracy'])\n",
        "  return model"
      ],
      "execution_count": 0,
      "outputs": []
    },
    {
      "cell_type": "code",
      "metadata": {
        "id": "CMaXT4wXPYnl",
        "colab_type": "code",
        "colab": {}
      },
      "source": [
        "from keras.wrappers.scikit_learn import KerasClassifier\n",
        "from sklearn.model_selection import GridSearchCV\n",
        "\n",
        "X_train_indices = tokens_to_indices(X_train, word_to_index, max_len)\n",
        "X_val_indices = tokens_to_indices(X_val, word_to_index, max_len)\n",
        "Y_train_oh = label_to_one_hot(Y_train, 5)\n",
        "Y_val_oh = label_to_one_hot(Y_val, 5)\n",
        "\n",
        "X_subset = X_train_indices[:1000]\n",
        "Y_subset = Y_train_oh[:1000]\n",
        "\n",
        "params = {'epochs': [50, 100, 200]}\n",
        "search_model = KerasClassifier(build_fn=build_model)\n",
        "grid = GridSearchCV(estimator=search_model, param_grid=params, cv=3)\n",
        "grid_result = grid.fit(X_subset, Y_subset)"
      ],
      "execution_count": 0,
      "outputs": []
    },
    {
      "cell_type": "code",
      "metadata": {
        "id": "-hgAF7gw8gM6",
        "colab_type": "code",
        "outputId": "10cbbe3c-8772-452c-ee12-fdeed6add73f",
        "colab": {
          "base_uri": "https://localhost:8080/",
          "height": 34
        }
      },
      "source": [
        "grid_result.best_params_"
      ],
      "execution_count": 0,
      "outputs": [
        {
          "output_type": "execute_result",
          "data": {
            "text/plain": [
              "{'epochs': 100}"
            ]
          },
          "metadata": {
            "tags": []
          },
          "execution_count": 55
        }
      ]
    },
    {
      "cell_type": "code",
      "metadata": {
        "id": "s6B5whyaSXmp",
        "colab_type": "code",
        "colab": {}
      },
      "source": [
        "model = build_model()\n",
        "history = model.fit(X_train_indices, Y_train_oh, validation_data=(X_val_indices, Y_val_oh), epochs = 100, batch_size = 32, shuffle=True)"
      ],
      "execution_count": 0,
      "outputs": []
    },
    {
      "cell_type": "code",
      "metadata": {
        "id": "0yC3eB6hRDVD",
        "colab_type": "code",
        "colab": {
          "base_uri": "https://localhost:8080/",
          "height": 573
        },
        "outputId": "24f61c94-20d1-4062-e0dd-f6286c79fc55"
      },
      "source": [
        "plt.plot(history.history['accuracy'])\n",
        "plt.plot(history.history['val_accuracy'])\n",
        "plt.title('model accuracy')\n",
        "plt.ylabel('accuracy')\n",
        "plt.xlabel('epoch')\n",
        "plt.legend(['train', 'test'], loc='upper left')\n",
        "plt.show()\n",
        "\n",
        "plt.plot(history.history['loss'])\n",
        "plt.plot(history.history['val_loss'])\n",
        "plt.title('model loss')\n",
        "plt.ylabel('loss')\n",
        "plt.xlabel('epoch')\n",
        "plt.legend(['train', 'test'], loc='upper left')\n",
        "plt.show()"
      ],
      "execution_count": 73,
      "outputs": [
        {
          "output_type": "display_data",
          "data": {
            "image/png": "[encoded data removed]",
            "text/plain": [
              "<Figure size 432x288 with 1 Axes>"
            ]
          },
          "metadata": {
            "tags": []
          }
        },
        {
          "output_type": "display_data",
          "data": {
            "image/png": "[encoded data removed]",
            "text/plain": [
              "<Figure size 432x288 with 1 Axes>"
            ]
          },
          "metadata": {
            "tags": []
          }
        }
      ]
    },
    {
      "cell_type": "code",
      "metadata": {
        "id": "Cu_7ZgVXptK7",
        "colab_type": "code",
        "colab": {}
      },
      "source": [
        "def label_to_emoji(label):\n",
        "    return emoji.emojize(emoji_dictionary[str(label)], use_aliases=True)"
      ],
      "execution_count": 0,
      "outputs": []
    },
    {
      "cell_type": "code",
      "metadata": {
        "id": "AWghX_4Rb4h0",
        "colab_type": "code",
        "colab": {}
      },
      "source": [
        "def sentence_to_indices(sentence, word_to_index, max_len):\n",
        "  x_tokens = word_tokenize(sentence.lower().replace('\\n', ' '))\n",
        "  x_indices = np.zeros(max_len)\n",
        "  i = 0\n",
        "  for token in x_tokens:\n",
        "    if token in word_to_index.keys():\n",
        "      x_indices[i] = word_to_index[token]\n",
        "    else:\n",
        "      x_indices[i] = word_to_index[\"unk\"]\n",
        "    i += 1\n",
        "  x_indices = x_indices.reshape((1,max_len))\n",
        "  return x_indices"
      ],
      "execution_count": 0,
      "outputs": []
    },
    {
      "cell_type": "code",
      "metadata": {
        "id": "v5_VLQDoeAUW",
        "colab_type": "code",
        "colab": {
          "base_uri": "https://localhost:8080/",
          "height": 34
        },
        "outputId": "bc25e28b-5e8c-4710-8b6f-cac0a1279654"
      },
      "source": [
        "x_test = \"I'm sad\"\n",
        "x_indices = sentence_to_indices(x_test, word_to_index, max_len)\n",
        "print(x_test +' '+  label_to_emoji(np.argmax(model.predict(x_indices))))"
      ],
      "execution_count": 77,
      "outputs": [
        {
          "output_type": "stream",
          "text": [
            "I'm sad 😞\n"
          ],
          "name": "stdout"
        }
      ]
    },
    {
      "cell_type": "code",
      "metadata": {
        "id": "HmYGelUR0q6b",
        "colab_type": "code",
        "colab": {}
      },
      "source": [
        ""
      ],
      "execution_count": 0,
      "outputs": []
    }
  ]
}