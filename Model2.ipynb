{
  "nbformat": 4,
  "nbformat_minor": 0,
  "metadata": {
    "colab": {
      "name": "Untitled",
      "provenance": [],
      "collapsed_sections": [],
      "toc_visible": true
    },
    "kernelspec": {
      "name": "python3",
      "display_name": "Python 3"
    },
    "accelerator": "GPU"
  },
  "cells": [
    {
      "cell_type": "code",
      "metadata": {
        "id": "kBLdt39sLNwN",
        "colab_type": "code",
        "colab": {}
      },
      "source": [
        "import torch\n",
        "import random\n",
        "import numpy as np\n",
        "import pandas as pd\n",
        "from tqdm.notebook import tqdm\n",
        "from sklearn.model_selection import train_test_split\n",
        "from transformers import BertTokenizer\n",
        "from transformers import BertForSequenceClassification\n",
        "from transformers import AdamW, get_linear_schedule_with_warmup\n",
        "from torch.utils.data import TensorDataset\n",
        "from torch.utils.data import DataLoader, RandomSampler, SequentialSampler\n",
        "from sklearn.metrics import f1_score"
      ],
      "execution_count": 0,
      "outputs": []
    },
    {
      "cell_type": "code",
      "metadata": {
        "id": "Ftbvzxz0jSTn",
        "colab_type": "code",
        "colab": {}
      },
      "source": [
        "BATCH_SIZE = 12\n",
        "EPOCHS = 10"
      ],
      "execution_count": 0,
      "outputs": []
    },
    {
      "cell_type": "code",
      "metadata": {
        "id": "TutMHlnALqQo",
        "colab_type": "code",
        "outputId": "bbb14992-bd94-43b4-ee2a-0ea36b0fc6b5",
        "colab": {
          "base_uri": "https://localhost:8080/",
          "height": 204
        }
      },
      "source": [
        "df = pd.read_csv('train_data.csv')\n",
        "df.head()"
      ],
      "execution_count": 38,
      "outputs": [
        {
          "output_type": "execute_result",
          "data": {
            "text/html": [
              "<div>\n",
              "<style scoped>\n",
              "    .dataframe tbody tr th:only-of-type {\n",
              "        vertical-align: middle;\n",
              "    }\n",
              "\n",
              "    .dataframe tbody tr th {\n",
              "        vertical-align: top;\n",
              "    }\n",
              "\n",
              "    .dataframe thead th {\n",
              "        text-align: right;\n",
              "    }\n",
              "</style>\n",
              "<table border=\"1\" class=\"dataframe\">\n",
              "  <thead>\n",
              "    <tr style=\"text-align: right;\">\n",
              "      <th></th>\n",
              "      <th>text</th>\n",
              "      <th>label</th>\n",
              "    </tr>\n",
              "  </thead>\n",
              "  <tbody>\n",
              "    <tr>\n",
              "      <th>0</th>\n",
              "      <td>daily mood  https://twitter.com/LIBGyal/status...</td>\n",
              "      <td>2</td>\n",
              "    </tr>\n",
              "    <tr>\n",
              "      <th>1</th>\n",
              "      <td>I am sorry you and others have to go through t...</td>\n",
              "      <td>2</td>\n",
              "    </tr>\n",
              "    <tr>\n",
              "      <th>2</th>\n",
              "      <td>Great point. But loyalty eventually has great...</td>\n",
              "      <td>1</td>\n",
              "    </tr>\n",
              "    <tr>\n",
              "      <th>3</th>\n",
              "      <td>Thank you so much sweet girl  love you!!!</td>\n",
              "      <td>0</td>\n",
              "    </tr>\n",
              "    <tr>\n",
              "      <th>4</th>\n",
              "      <td>corona virus killing sports smh</td>\n",
              "      <td>2</td>\n",
              "    </tr>\n",
              "  </tbody>\n",
              "</table>\n",
              "</div>"
            ],
            "text/plain": [
              "                                                text  label\n",
              "0  daily mood  https://twitter.com/LIBGyal/status...      2\n",
              "1  I am sorry you and others have to go through t...      2\n",
              "2   Great point. But loyalty eventually has great...      1\n",
              "3          Thank you so much sweet girl  love you!!!      0\n",
              "4                   corona virus killing sports smh       2"
            ]
          },
          "metadata": {
            "tags": []
          },
          "execution_count": 38
        }
      ]
    },
    {
      "cell_type": "code",
      "metadata": {
        "id": "DiLATFzcQvtL",
        "colab_type": "code",
        "colab": {}
      },
      "source": [
        "label_to_emoji = {0: \"\\u2764\\uFE0F\",    \n",
        "                    1: \"😄\"\t,\n",
        "                    2: \"😔\",\n",
        "                    3: \"🥺\",\n",
        "                    4: \"😤\",\n",
        "                    }"
      ],
      "execution_count": 0,
      "outputs": []
    },
    {
      "cell_type": "code",
      "metadata": {
        "id": "Art-LpNPbEPj",
        "colab_type": "code",
        "colab": {}
      },
      "source": [
        "X_train, X_val, y_train, y_val = train_test_split(df.index.values, df.label.values, test_size=0.15, random_state=42, stratify=df.label.values)"
      ],
      "execution_count": 0,
      "outputs": []
    },
    {
      "cell_type": "code",
      "metadata": {
        "id": "IaGQY4sgbey5",
        "colab_type": "code",
        "colab": {}
      },
      "source": [
        "df['type'] = ['TBD']*df.shape[0]\n",
        "df.loc[X_train, 'type'] = 'train'\n",
        "df.loc[X_val, 'type'] = 'val'"
      ],
      "execution_count": 0,
      "outputs": []
    },
    {
      "cell_type": "code",
      "metadata": {
        "id": "83kppq1LcFm1",
        "colab_type": "code",
        "colab": {
          "base_uri": "https://localhost:8080/",
          "height": 390
        },
        "outputId": "6647204c-974c-4bfb-f7d2-2a29fe8d40c7"
      },
      "source": [
        "df.groupby(['label', 'type']).count()"
      ],
      "execution_count": 42,
      "outputs": [
        {
          "output_type": "execute_result",
          "data": {
            "text/html": [
              "<div>\n",
              "<style scoped>\n",
              "    .dataframe tbody tr th:only-of-type {\n",
              "        vertical-align: middle;\n",
              "    }\n",
              "\n",
              "    .dataframe tbody tr th {\n",
              "        vertical-align: top;\n",
              "    }\n",
              "\n",
              "    .dataframe thead th {\n",
              "        text-align: right;\n",
              "    }\n",
              "</style>\n",
              "<table border=\"1\" class=\"dataframe\">\n",
              "  <thead>\n",
              "    <tr style=\"text-align: right;\">\n",
              "      <th></th>\n",
              "      <th></th>\n",
              "      <th>text</th>\n",
              "    </tr>\n",
              "    <tr>\n",
              "      <th>label</th>\n",
              "      <th>type</th>\n",
              "      <th></th>\n",
              "    </tr>\n",
              "  </thead>\n",
              "  <tbody>\n",
              "    <tr>\n",
              "      <th rowspan=\"2\" valign=\"top\">0</th>\n",
              "      <th>train</th>\n",
              "      <td>1715</td>\n",
              "    </tr>\n",
              "    <tr>\n",
              "      <th>val</th>\n",
              "      <td>303</td>\n",
              "    </tr>\n",
              "    <tr>\n",
              "      <th rowspan=\"2\" valign=\"top\">1</th>\n",
              "      <th>train</th>\n",
              "      <td>1728</td>\n",
              "    </tr>\n",
              "    <tr>\n",
              "      <th>val</th>\n",
              "      <td>305</td>\n",
              "    </tr>\n",
              "    <tr>\n",
              "      <th rowspan=\"2\" valign=\"top\">2</th>\n",
              "      <th>train</th>\n",
              "      <td>1740</td>\n",
              "    </tr>\n",
              "    <tr>\n",
              "      <th>val</th>\n",
              "      <td>307</td>\n",
              "    </tr>\n",
              "    <tr>\n",
              "      <th rowspan=\"2\" valign=\"top\">3</th>\n",
              "      <th>train</th>\n",
              "      <td>1724</td>\n",
              "    </tr>\n",
              "    <tr>\n",
              "      <th>val</th>\n",
              "      <td>304</td>\n",
              "    </tr>\n",
              "    <tr>\n",
              "      <th rowspan=\"2\" valign=\"top\">4</th>\n",
              "      <th>train</th>\n",
              "      <td>1718</td>\n",
              "    </tr>\n",
              "    <tr>\n",
              "      <th>val</th>\n",
              "      <td>304</td>\n",
              "    </tr>\n",
              "  </tbody>\n",
              "</table>\n",
              "</div>"
            ],
            "text/plain": [
              "             text\n",
              "label type       \n",
              "0     train  1715\n",
              "      val     303\n",
              "1     train  1728\n",
              "      val     305\n",
              "2     train  1740\n",
              "      val     307\n",
              "3     train  1724\n",
              "      val     304\n",
              "4     train  1718\n",
              "      val     304"
            ]
          },
          "metadata": {
            "tags": []
          },
          "execution_count": 42
        }
      ]
    },
    {
      "cell_type": "code",
      "metadata": {
        "id": "4m_onoroW0FT",
        "colab_type": "code",
        "colab": {}
      },
      "source": [
        "tokenizer = BertTokenizer.from_pretrained(\n",
        "    'bert-base-uncased',\n",
        "    do_lower_case=True\n",
        ")"
      ],
      "execution_count": 0,
      "outputs": []
    },
    {
      "cell_type": "code",
      "metadata": {
        "id": "iOzKGeGURv6m",
        "colab_type": "code",
        "colab": {}
      },
      "source": [
        "tokens_train = tokenizer.batch_encode_plus(\n",
        "    df[df.type=='train'].text.values,\n",
        "    add_special_tokens=True,\n",
        "    return_attention_mask=True,\n",
        "    pad_to_max_length=True,\n",
        "    max_length=256,\n",
        "    return_tensors='pt'\n",
        ")\n",
        "\n",
        "tokens_val = tokenizer.batch_encode_plus(\n",
        "    df[df.type=='val'].text.values,\n",
        "    add_special_tokens=True,\n",
        "    return_attention_mask=True,\n",
        "    pad_to_max_length=True,\n",
        "    max_length=256,\n",
        "    return_tensors='pt'\n",
        ")\n",
        "\n",
        "input_ids_train = tokens_train['input_ids']\n",
        "attention_masks_train = tokens_train['attention_mask']\n",
        "labels_train = torch.tensor(df[df.type=='train'].label.values)\n",
        "\n",
        "input_ids_val = tokens_val['input_ids']\n",
        "attention_masks_val = tokens_val['attention_mask']\n",
        "labels_val = torch.tensor(df[df.type=='val'].label.values)"
      ],
      "execution_count": 0,
      "outputs": []
    },
    {
      "cell_type": "code",
      "metadata": {
        "id": "W6NoBc95emQs",
        "colab_type": "code",
        "colab": {}
      },
      "source": [
        "dataset_train = TensorDataset(input_ids_train, attention_masks_train, labels_train)\n",
        "dataset_val = TensorDataset(input_ids_val, attention_masks_val, labels_val)"
      ],
      "execution_count": 0,
      "outputs": []
    },
    {
      "cell_type": "code",
      "metadata": {
        "id": "9b1D3zT_fN4a",
        "colab_type": "code",
        "colab": {}
      },
      "source": [
        "model = BertForSequenceClassification.from_pretrained(\n",
        "    'bert-base-uncased',\n",
        "    num_labels = len(label_to_emoji),\n",
        "    output_attentions=False,\n",
        "    output_hidden_states=False\n",
        ")"
      ],
      "execution_count": 0,
      "outputs": []
    },
    {
      "cell_type": "code",
      "metadata": {
        "id": "xKQg7wloiNwA",
        "colab_type": "code",
        "colab": {}
      },
      "source": [
        "loader_train = DataLoader(\n",
        "    dataset_train,\n",
        "    sampler=RandomSampler(dataset_train),\n",
        "    batch_size=BATCH_SIZE\n",
        ")\n",
        "\n",
        "loader_val = DataLoader(\n",
        "    dataset_val,\n",
        "    sampler=SequentialSampler(dataset_val),\n",
        "    batch_size=32\n",
        ")"
      ],
      "execution_count": 0,
      "outputs": []
    },
    {
      "cell_type": "code",
      "metadata": {
        "id": "vgIVwZ_yj_Nh",
        "colab_type": "code",
        "colab": {}
      },
      "source": [
        "optimizer = AdamW(\n",
        "    model.parameters(),\n",
        "    lr=1e-5,\n",
        "    eps=1e-8\n",
        ")"
      ],
      "execution_count": 0,
      "outputs": []
    },
    {
      "cell_type": "code",
      "metadata": {
        "id": "rHTLzIXpkp4Q",
        "colab_type": "code",
        "colab": {}
      },
      "source": [
        "scheduler = get_linear_schedule_with_warmup(\n",
        "    optimizer,\n",
        "    num_warmup_steps=0,\n",
        "    num_training_steps=len(dataset_train)*EPOCHS\n",
        ")"
      ],
      "execution_count": 0,
      "outputs": []
    },
    {
      "cell_type": "code",
      "metadata": {
        "id": "yObxA2wklD70",
        "colab_type": "code",
        "colab": {}
      },
      "source": [
        "def calc_f1_score(preds, labels):\n",
        "  preds_ = np.argmax(preds, axis=1).flatten()\n",
        "  labels_ = labels.flatten()\n",
        "  return f1_score(labels_, preds_, average='macro')"
      ],
      "execution_count": 0,
      "outputs": []
    },
    {
      "cell_type": "code",
      "metadata": {
        "id": "JBWl5RHFmHx8",
        "colab_type": "code",
        "colab": {}
      },
      "source": [
        "def acc_per_class(preds, labels):\n",
        "  preds_ = np.argmax(preds, axis=1).flatten()\n",
        "  labels_ = labels.flatten()\n",
        "\n",
        "  for label in np.unique(labels_):\n",
        "    y_preds = preds_[labels_==label]\n",
        "    y_true = labels_[labels_==label]\n",
        "    print('Class: ', label_to_emoji[label])\n",
        "    print('Accuracy: ', len(y_preds[y_preds==label])/len(y_true))"
      ],
      "execution_count": 0,
      "outputs": []
    },
    {
      "cell_type": "code",
      "metadata": {
        "id": "k58zFwSJo8Mv",
        "colab_type": "code",
        "colab": {}
      },
      "source": [
        "SEED = 42\n",
        "random.seed(SEED)\n",
        "np.random.seed(SEED)\n",
        "torch.manual_seed(SEED)\n",
        "torch.cuda.manual_seed_all(SEED)"
      ],
      "execution_count": 0,
      "outputs": []
    },
    {
      "cell_type": "code",
      "metadata": {
        "id": "63T_xs1xpntd",
        "colab_type": "code",
        "colab": {
          "base_uri": "https://localhost:8080/",
          "height": 34
        },
        "outputId": "6934dc50-ff4b-4f11-a1c3-9d0b515dad53"
      },
      "source": [
        "device = torch.device('cuda' if torch.cuda.is_available() else 'cpu')\n",
        "model.to(device)\n",
        "\n",
        "print(device)"
      ],
      "execution_count": 53,
      "outputs": [
        {
          "output_type": "stream",
          "text": [
            "cuda\n"
          ],
          "name": "stdout"
        }
      ]
    },
    {
      "cell_type": "code",
      "metadata": {
        "id": "dCO9ifU5pyQs",
        "colab_type": "code",
        "colab": {}
      },
      "source": [
        "def evaluate(loader_val):\n",
        "  model.eval()\n",
        "\n",
        "  loss_val_total = 0\n",
        "  y_pred, y_true = [], []\n",
        "\n",
        "  for batch in loader_val:\n",
        "    batch = tuple(b.to(device) for b in batch)\n",
        "\n",
        "    inputs = {'input_ids': batch[0], 'attention_mask': batch[1], 'labels': batch[2]}\n",
        "\n",
        "    with torch.no_grad():\n",
        "      outputs = model(**inputs)\n",
        "    \n",
        "    loss = outputs[0]\n",
        "    logits = outputs[1]\n",
        "    loss_val_total += loss.item()\n",
        "\n",
        "    logits = logits.detach().cpu().numpy()\n",
        "    label_ids = inputs['labels'].cpu().numpy()\n",
        "    y_pred.append(logits)\n",
        "    y_true.append(label_ids)\n",
        "  \n",
        "  loss_val_avg = loss_val_total/len(loader_val)\n",
        "\n",
        "  y_pred = np.concatenate(y_pred, axis=0)\n",
        "  y_true = np.concatenate(y_true, axis=0)\n",
        "\n",
        "  return loss_val_avg, y_pred, y_true"
      ],
      "execution_count": 0,
      "outputs": []
    },
    {
      "cell_type": "code",
      "metadata": {
        "id": "dVRsoQ7DwEF6",
        "colab_type": "code",
        "colab": {}
      },
      "source": [
        "for epoch in tqdm(range(1, EPOCHS+1)):\n",
        "  model.train()\n",
        "\n",
        "  loss_train_total = 0\n",
        "\n",
        "  progress_bar = tqdm(loader_train,\n",
        "                      desc=f'Epoch {epoch}',\n",
        "                      leave=False,\n",
        "                      disable=False)\n",
        "  for batch in progress_bar:\n",
        "    model.zero_grad()\n",
        "    batch = tuple(b.to(device) for b in batch)\n",
        "    inputs = {\n",
        "        'input_ids': batch[0],\n",
        "        'attention_mask': batch[1],\n",
        "        'labels': batch[2] \n",
        "    }\n",
        "  \n",
        "    outputs = model(**inputs)\n",
        "    loss = outputs[0]\n",
        "    loss_train_total += loss.item()\n",
        "    loss.backward()\n",
        "\n",
        "    torch.nn.utils.clip_grad_norm_(model.parameters(), 1.0)\n",
        "\n",
        "    optimizer.step()\n",
        "    scheduler.step()\n",
        "\n",
        "    progress_bar.set_postfix({'training_loss': '{:.3f}'.format(loss.item()/len(batch))})\n",
        "\n",
        "  torch.save(model.state_dict(), f'Model_epoch{epoch}.model')\n",
        "\n",
        "  tqdm.write(f'\\nEpoch {epoch}')\n",
        "\n",
        "  loss_train_avg = loss_train_total/len(loader_train)\n",
        "  tqdm.write(f'Training loss: {loss_train_avg}')\n",
        "  \n",
        "  val_loss, y_pred, y_true = evaluate(loader_val)\n",
        "  val_f1 = calc_f1_score(y_pred, y_true)\n",
        "  tqdm.write(f'Validation loss: {val_loss}')\n",
        "  tqdm.write(f'f1-score: {val_f1}')"
      ],
      "execution_count": 0,
      "outputs": []
    },
    {
      "cell_type": "code",
      "metadata": {
        "id": "dJyvG0M2Hjnp",
        "colab_type": "code",
        "colab": {}
      },
      "source": [
        "_, pred, true = evaluate(loader_val)"
      ],
      "execution_count": 0,
      "outputs": []
    },
    {
      "cell_type": "code",
      "metadata": {
        "id": "SOP-4w5rP7DN",
        "colab_type": "code",
        "colab": {}
      },
      "source": [
        "pred_emoji = []\n",
        "for p in np.argmax(pred, axis=1).flatten():\n",
        "  pred_emoji.append(label_to_emoji[p])"
      ],
      "execution_count": 0,
      "outputs": []
    },
    {
      "cell_type": "code",
      "metadata": {
        "id": "zkAZZeuJR-bc",
        "colab_type": "code",
        "colab": {}
      },
      "source": [
        "df_results = pd.DataFrame({'text': df[df.type=='val'].text.values, 'pred': pred_emoji})\n",
        "df_results.to_csv('test_results.csv')"
      ],
      "execution_count": 0,
      "outputs": []
    }
  ]
}